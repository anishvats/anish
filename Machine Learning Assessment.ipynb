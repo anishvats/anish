{
 "cells": [
  {
   "cell_type": "code",
   "execution_count": null,
   "metadata": {},
   "outputs": [],
   "source": [
    "import os\n",
    "import shutil"
   ]
  },
  {
   "cell_type": "code",
   "execution_count": null,
   "metadata": {},
   "outputs": [],
   "source": [
    "directory = \"Processing\"\n",
    "parent_dir = os.getcwd()\n",
    "path = os.path.join(parent_dir, directory)\n",
    "\n",
    "if os.path.exists(path):\n",
    "    print(\"Folder '% s' already present \" % directory)\n",
    "else:\n",
    "    os.mkdir(path)\n",
    "    print(\"Folder '% s' created\" % directory)"
   ]
  },
  {
   "cell_type": "code",
   "execution_count": null,
   "metadata": {},
   "outputs": [],
   "source": [
    "directory = \"Queue\"\n",
    "parent_dir = os.getcwd()\n",
    "path = os.path.join(parent_dir, directory)\n",
    "\n",
    "if os.path.exists(path):\n",
    "    print(\"Folder '% s' already present \" % directory)\n",
    "else:\n",
    "    os.mkdir(path)\n",
    "    print(\"Folder '% s' created\" % directory)"
   ]
  },
  {
   "cell_type": "code",
   "execution_count": null,
   "metadata": {},
   "outputs": [],
   "source": [
    "directory = \"Processed\"\n",
    "parent_dir = os.getcwd()\n",
    "path = os.path.join(parent_dir, directory)\n",
    "\n",
    "if os.path.exists(path):\n",
    "    print(\"Folder '% s' already present \" % directory)\n",
    "else:\n",
    "    os.mkdir(path)\n",
    "    print(\"Folder '% s' created\" % directory)"
   ]
  },
  {
   "cell_type": "code",
   "execution_count": null,
   "metadata": {},
   "outputs": [],
   "source": [
    "def Create_file():\n",
    "    T=0\n",
    "    i = 1\n",
    "    while T<5:\n",
    "        sleep(1)\n",
    "        for it in range(1):\n",
    "            directory = \"Processing\"\n",
    "            parent_dir = os.getcwd()\n",
    "            path = os.path.join(parent_dir, directory)\n",
    "            i_str = str(i)\n",
    "            file = i_str + '.txt'\n",
    "            filename = os.path.join(path, file) \n",
    "            f = open(filename, 'a')\n",
    "            f.close()\n",
    "        T+=1\n",
    "        i = i + 1"
   ]
  },
  {
   "cell_type": "code",
   "execution_count": null,
   "metadata": {},
   "outputs": [],
   "source": [
    "def move_file():\n",
    "    directory = \"Processing\"\n",
    "    parent_dir = os.getcwd()\n",
    "    source = os.path.join(parent_dir, directory)\n",
    "\n",
    "    directory = \"Queue\"\n",
    "    destination = os.path.join(parent_dir, directory)\n",
    "\n",
    "    allfiles = os.listdir(source)\n",
    "\n",
    "    for f in allfiles:\n",
    "        shutil.move(source + \"\\\\\" +f, destination)"
   ]
  },
  {
   "cell_type": "code",
   "execution_count": null,
   "metadata": {},
   "outputs": [],
   "source": [
    "import mysql.connector as SQLC\n",
    "\n",
    "DataBase = SQLC.connect(\n",
    "        host =\"127.0.0.1\",\n",
    "        user =\"root\",\n",
    "        password =\"*****\" #password is private)\n",
    "\n",
    "Cursor = DataBase.cursor()\n",
    " \n",
    "Cursor.execute(\"CREATE DATABASE Assingement\")\n",
    "print(\"Assingement Data base is created\")"
   ]
  },
  {
   "cell_type": "code",
   "execution_count": null,
   "metadata": {},
   "outputs": [],
   "source": [
    "def CreateTable():\n",
    "      \n",
    "    DataBase = SQLC.connect(\n",
    "        host =\"127.0.0.1\",\n",
    "        user =\"root\",\n",
    "        password =\"*****\", #password is private\n",
    "        database =\"assingement\"\n",
    "        )\n",
    "         \n",
    "    Cursor = DataBase.cursor()\n",
    "\n",
    "    TableName =\"CREATE TABLE Demo34 (Number VARCHAR(255));\"\n",
    "\n",
    "    Cursor.execute(TableName)\n",
    "    print(\"Demo34 Table is Created in the Database\")\n",
    "    return\n",
    "CreateTable()"
   ]
  },
  {
   "cell_type": "code",
   "execution_count": null,
   "metadata": {},
   "outputs": [],
   "source": [
    "def data_update():\n",
    "    DataBase = SQLC.connect(\n",
    "        host =\"127.0.0.1\",\n",
    "        user =\"root\",\n",
    "        password =\"*****\", #password is private\n",
    "        database =\"assingement\"\n",
    "        )\n",
    "         \n",
    "    Cursor = DataBase.cursor()\n",
    "    sql = \"INSERT INTO Demo34 (Number) VALUES ('0/1')\"\n",
    "\n",
    "    Cursor.execute(sql)\n",
    "\n",
    "    DataBase.commit()\n",
    "\n",
    "    print(Cursor.rowcount, \"record(s) affected\")"
   ]
  },
  {
   "cell_type": "code",
   "execution_count": null,
   "metadata": {},
   "outputs": [],
   "source": [
    "def final_file():\n",
    "    directory = \"Queue\"\n",
    "    parent_dir = os.getcwd()\n",
    "    source = os.path.join(parent_dir, directory)\n",
    "\n",
    "    directory = \"Processed\"\n",
    "    destination = os.path.join(parent_dir, directory)\n",
    "\n",
    "    allfiles = os.listdir(source)\n",
    "\n",
    "    for f in allfiles:\n",
    "        shutil.move(source + \"\\\\\" +f, destination)"
   ]
  },
  {
   "cell_type": "code",
   "execution_count": null,
   "metadata": {},
   "outputs": [],
   "source": [
    "x=0\n",
    "while x<10:\n",
    "    Create_file()\n",
    "    move_file()\n",
    "    data_update()\n",
    "    final_file()"
   ]
  }
 ],
 "metadata": {
  "kernelspec": {
   "display_name": "Python 3",
   "language": "python",
   "name": "python3"
  },
  "language_info": {
   "codemirror_mode": {
    "name": "ipython",
    "version": 3
   },
   "file_extension": ".py",
   "mimetype": "text/x-python",
   "name": "python",
   "nbconvert_exporter": "python",
   "pygments_lexer": "ipython3",
   "version": "3.7.6"
  }
 },
 "nbformat": 4,
 "nbformat_minor": 4
}
